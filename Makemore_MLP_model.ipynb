{
  "nbformat": 4,
  "nbformat_minor": 0,
  "metadata": {
    "colab": {
      "provenance": []
    },
    "kernelspec": {
      "name": "python3",
      "display_name": "Python 3"
    },
    "language_info": {
      "name": "python"
    }
  },
  "cells": [
    {
      "cell_type": "code",
      "execution_count": 1,
      "metadata": {
        "id": "j6W0emLARxTJ"
      },
      "outputs": [],
      "source": [
        "import numpy as np\n",
        "import torch\n",
        "import random\n",
        "import torch.nn.functional as F\n",
        "import matplotlib.pyplot as plt"
      ]
    },
    {
      "cell_type": "code",
      "source": [
        "# 1) Loading all names into memory\n",
        "names = open(\"names.txt\", \"r\").read().split(\"\\n\")\n",
        "names[:5]"
      ],
      "metadata": {
        "colab": {
          "base_uri": "https://localhost:8080/"
        },
        "id": "x5ydGQgTGsKH",
        "outputId": "38c7e550-19be-4e70-ae8a-0bc430d13e08"
      },
      "execution_count": 2,
      "outputs": [
        {
          "output_type": "execute_result",
          "data": {
            "text/plain": [
              "['emma', 'olivia', 'ava', 'isabella', 'sophia']"
            ]
          },
          "metadata": {},
          "execution_count": 2
        }
      ]
    },
    {
      "cell_type": "code",
      "source": [
        "# 2) Creating the encoder and decoder\n",
        "unique_chars = [\".\"] + sorted(list(set(\"\".join(names))))\n",
        "stoi = {s:i for i, s in enumerate(unique_chars)}\n",
        "itos = {i:s for i, s in enumerate(unique_chars)}"
      ],
      "metadata": {
        "id": "8o9wE4woGxA8"
      },
      "execution_count": 4,
      "outputs": []
    },
    {
      "cell_type": "code",
      "source": [
        "# 3) Creating the X and y sets\n",
        "block_size = 3\n",
        "X, y = [], []\n",
        "for name in names[:5] :\n",
        "  name = \"...\" + name + \".\"\n",
        "  for i in range(len(name)-3) :\n",
        "    ix = list(map(lambda s: stoi[s], list(name[i:i+3])))\n",
        "    iy = stoi[name[i+3]]\n",
        "    X.append(ix)\n",
        "    y.append(iy)\n",
        "X = torch.tensor(X)\n",
        "y = torch.tensor(y)"
      ],
      "metadata": {
        "id": "XrfENN7RMPkm"
      },
      "execution_count": 4,
      "outputs": []
    },
    {
      "cell_type": "code",
      "source": [
        "# 4) Create the lookup table, C\n",
        "no_dims = 2\n",
        "C = torch.randn((len(unique_chars), no_dims)) # Shape (27, 2)\n",
        "C.shape"
      ],
      "metadata": {
        "colab": {
          "base_uri": "https://localhost:8080/"
        },
        "id": "_XVMIWXSOflS",
        "outputId": "1887115c-166e-46b8-d0a2-afc60dd2dd0f"
      },
      "execution_count": 7,
      "outputs": [
        {
          "output_type": "execute_result",
          "data": {
            "text/plain": [
              "torch.Size([27, 2])"
            ]
          },
          "metadata": {},
          "execution_count": 7
        }
      ]
    },
    {
      "cell_type": "code",
      "source": [
        "# 5) Create embedding from C, for X, the sequences to be passed into the NN\n",
        "embed = C[X]\n",
        "embed.shape"
      ],
      "metadata": {
        "colab": {
          "base_uri": "https://localhost:8080/"
        },
        "id": "59Tb61L9QNoT",
        "outputId": "ead7d6cd-e4b3-40de-bf32-f211872e3abb"
      },
      "execution_count": 8,
      "outputs": [
        {
          "output_type": "execute_result",
          "data": {
            "text/plain": [
              "torch.Size([32, 3, 2])"
            ]
          },
          "metadata": {},
          "execution_count": 8
        }
      ]
    },
    {
      "cell_type": "code",
      "source": [
        "# 7) Creating the Weights and biases\n",
        "no_inp_neurons = no_dims * block_size\n",
        "W1 = torch.randn((no_inp_neurons, 100))\n",
        "b1 = torch.randn(100)\n",
        "W1.shape"
      ],
      "metadata": {
        "colab": {
          "base_uri": "https://localhost:8080/"
        },
        "id": "cIOzv8iPRXjJ",
        "outputId": "f80ec38d-ce69-46c3-86ab-24ca8c70c7da"
      },
      "execution_count": 9,
      "outputs": [
        {
          "output_type": "execute_result",
          "data": {
            "text/plain": [
              "torch.Size([6, 100])"
            ]
          },
          "metadata": {},
          "execution_count": 9
        }
      ]
    },
    {
      "cell_type": "code",
      "source": [
        "# 8) We cannot simply multiply embed and W1 so we need to concatenate the last 2 dimensions of embed to get a (32, 6 matrix)\n",
        "# [embed[:, 0, :], embed[:, 1, :], embed[:, 2, :]][0].shape\n",
        "method1 = torch.cat(torch.unbind(embed, 1), 1).shape\n",
        "method2 = embed.view(32, no_inp_neurons)\n",
        "method2"
      ],
      "metadata": {
        "colab": {
          "base_uri": "https://localhost:8080/"
        },
        "id": "m3mV11hoSCvQ",
        "outputId": "bd04634c-67e1-4959-f943-ca2680246665"
      },
      "execution_count": 10,
      "outputs": [
        {
          "output_type": "execute_result",
          "data": {
            "text/plain": [
              "tensor([[ 1.1267, -1.5898,  1.1267, -1.5898,  1.1267, -1.5898],\n",
              "        [ 1.1267, -1.5898,  1.1267, -1.5898, -1.8382, -0.5771],\n",
              "        [ 1.1267, -1.5898, -1.8382, -0.5771, -0.4667, -0.4263],\n",
              "        [-1.8382, -0.5771, -0.4667, -0.4263, -0.4667, -0.4263],\n",
              "        [-0.4667, -0.4263, -0.4667, -0.4263,  0.6081, -0.8882],\n",
              "        [ 1.1267, -1.5898,  1.1267, -1.5898,  1.1267, -1.5898],\n",
              "        [ 1.1267, -1.5898,  1.1267, -1.5898, -0.5614,  1.8021],\n",
              "        [ 1.1267, -1.5898, -0.5614,  1.8021, -3.3045,  1.5983],\n",
              "        [-0.5614,  1.8021, -3.3045,  1.5983,  2.7296,  0.4241],\n",
              "        [-3.3045,  1.5983,  2.7296,  0.4241, -0.6565, -1.2876],\n",
              "        [ 2.7296,  0.4241, -0.6565, -1.2876,  2.7296,  0.4241],\n",
              "        [-0.6565, -1.2876,  2.7296,  0.4241,  0.6081, -0.8882],\n",
              "        [ 1.1267, -1.5898,  1.1267, -1.5898,  1.1267, -1.5898],\n",
              "        [ 1.1267, -1.5898,  1.1267, -1.5898,  0.6081, -0.8882],\n",
              "        [ 1.1267, -1.5898,  0.6081, -0.8882, -0.6565, -1.2876],\n",
              "        [ 0.6081, -0.8882, -0.6565, -1.2876,  0.6081, -0.8882],\n",
              "        [ 1.1267, -1.5898,  1.1267, -1.5898,  1.1267, -1.5898],\n",
              "        [ 1.1267, -1.5898,  1.1267, -1.5898,  2.7296,  0.4241],\n",
              "        [ 1.1267, -1.5898,  2.7296,  0.4241, -0.7645,  1.4059],\n",
              "        [ 2.7296,  0.4241, -0.7645,  1.4059,  0.6081, -0.8882],\n",
              "        [-0.7645,  1.4059,  0.6081, -0.8882,  0.3308,  0.9172],\n",
              "        [ 0.6081, -0.8882,  0.3308,  0.9172, -1.8382, -0.5771],\n",
              "        [ 0.3308,  0.9172, -1.8382, -0.5771, -3.3045,  1.5983],\n",
              "        [-1.8382, -0.5771, -3.3045,  1.5983, -3.3045,  1.5983],\n",
              "        [-3.3045,  1.5983, -3.3045,  1.5983,  0.6081, -0.8882],\n",
              "        [ 1.1267, -1.5898,  1.1267, -1.5898,  1.1267, -1.5898],\n",
              "        [ 1.1267, -1.5898,  1.1267, -1.5898, -0.7645,  1.4059],\n",
              "        [ 1.1267, -1.5898, -0.7645,  1.4059, -0.5614,  1.8021],\n",
              "        [-0.7645,  1.4059, -0.5614,  1.8021, -1.8953, -1.3941],\n",
              "        [-0.5614,  1.8021, -1.8953, -1.3941,  0.8828, -0.1745],\n",
              "        [-1.8953, -1.3941,  0.8828, -0.1745,  2.7296,  0.4241],\n",
              "        [ 0.8828, -0.1745,  2.7296,  0.4241,  0.6081, -0.8882]])"
            ]
          },
          "metadata": {},
          "execution_count": 10
        }
      ]
    },
    {
      "cell_type": "code",
      "source": [
        "# 9) So now we compute the heuristic h\n",
        "h = torch.tanh(embed.view(embed.shape[0], no_inp_neurons) @ W1 + b1)\n",
        "h"
      ],
      "metadata": {
        "colab": {
          "base_uri": "https://localhost:8080/"
        },
        "id": "73zKzLNmTH8p",
        "outputId": "664828f2-61e6-40a8-dc4c-3c4bf02bb244"
      },
      "execution_count": 11,
      "outputs": [
        {
          "output_type": "execute_result",
          "data": {
            "text/plain": [
              "tensor([[-1.0000, -0.9771, -1.0000,  ..., -0.9992, -0.3905,  0.9595],\n",
              "        [-0.9826,  0.9971, -1.0000,  ...,  0.2081, -0.9996,  0.7367],\n",
              "        [-0.3790, -0.7149,  0.9559,  ..., -0.9864,  0.9709,  0.9928],\n",
              "        ...,\n",
              "        [ 0.9986, -0.9999,  0.9990,  ...,  0.3568,  0.9969,  0.3006],\n",
              "        [-1.0000, -1.0000, -0.9970,  ..., -0.9997,  0.9995, -0.8344],\n",
              "        [-1.0000, -0.9696, -1.0000,  ...,  0.0010, -0.9733,  0.5129]])"
            ]
          },
          "metadata": {},
          "execution_count": 11
        }
      ]
    },
    {
      "cell_type": "code",
      "source": [
        "# 10) Calculate o/p of hidden layer\n",
        "W2 = torch.randn((100, 27))\n",
        "b2 = torch.randn(27)\n",
        "print(h.shape, W2.shape, b2.shape)\n",
        "logits = h @ W2 + b2"
      ],
      "metadata": {
        "colab": {
          "base_uri": "https://localhost:8080/"
        },
        "id": "WBjcpzBtbU6I",
        "outputId": "9e617bcb-6955-4af7-884f-ce14237f0645"
      },
      "execution_count": 23,
      "outputs": [
        {
          "output_type": "stream",
          "name": "stdout",
          "text": [
            "torch.Size([32, 100]) torch.Size([100, 27]) torch.Size([27])\n"
          ]
        }
      ]
    },
    {
      "cell_type": "code",
      "source": [
        "# 10) Evaluate softmax activate\n",
        "counts = logits.exp()\n",
        "probs = counts/counts.sum(1, keepdim=True)\n",
        "# 11) Calculate loss\n",
        "loss = -probs[torch.arange(32), y].log().mean()\n",
        "loss"
      ],
      "metadata": {
        "colab": {
          "base_uri": "https://localhost:8080/"
        },
        "id": "S7e0Iss5SpmU",
        "outputId": "cf4f55d1-fd6b-4c01-f1b8-68d0bb83456f"
      },
      "execution_count": 24,
      "outputs": [
        {
          "output_type": "execute_result",
          "data": {
            "text/plain": [
              "tensor(18.5166)"
            ]
          },
          "metadata": {},
          "execution_count": 24
        }
      ]
    },
    {
      "cell_type": "code",
      "source": [
        "# 12) Rewrite softmax activation and neg log likelihood loss as corss_entropy\n",
        "loss = F.cross_entropy(logits, y)\n",
        "loss"
      ],
      "metadata": {
        "colab": {
          "base_uri": "https://localhost:8080/"
        },
        "id": "7D-puZQ1TAAd",
        "outputId": "f9734110-4cd2-4b32-b8fe-9a50f1402591"
      },
      "execution_count": 27,
      "outputs": [
        {
          "output_type": "execute_result",
          "data": {
            "text/plain": [
              "tensor(18.5166)"
            ]
          },
          "metadata": {},
          "execution_count": 27
        }
      ]
    },
    {
      "cell_type": "code",
      "source": [
        "# 14) Rewriting everything and putting it altogether"
      ],
      "metadata": {
        "id": "vNbDPDD5UyZA"
      },
      "execution_count": 28,
      "outputs": []
    },
    {
      "cell_type": "code",
      "source": [
        "block_size = 3\n",
        "X, y = [], []\n",
        "for name in names :\n",
        "  name = \"...\" + name + \".\"\n",
        "  for i in range(len(name)-3) :\n",
        "    ix = list(map(lambda s: stoi[s], list(name[i:i+3])))\n",
        "    iy = stoi[name[i+3]]\n",
        "    X.append(ix)\n",
        "    y.append(iy)\n",
        "X = torch.tensor(X)\n",
        "y = torch.tensor(y)"
      ],
      "metadata": {
        "id": "r8BTP_I4aadU"
      },
      "execution_count": 25,
      "outputs": []
    },
    {
      "cell_type": "code",
      "source": [
        "X.shape, y.shape"
      ],
      "metadata": {
        "colab": {
          "base_uri": "https://localhost:8080/"
        },
        "id": "97autL0Ybgca",
        "outputId": "b359f427-a989-40e2-8f22-4b679beaf5a2"
      },
      "execution_count": 26,
      "outputs": [
        {
          "output_type": "execute_result",
          "data": {
            "text/plain": [
              "(torch.Size([228146, 3]), torch.Size([228146]))"
            ]
          },
          "metadata": {},
          "execution_count": 26
        }
      ]
    },
    {
      "cell_type": "code",
      "source": [
        "g = torch.Generator().manual_seed(2147483647)\n",
        "C = torch.randn((27, 2), generator=g)\n",
        "W1 = torch.randn((6, 100), generator=g)\n",
        "b1 = torch.randn(100, generator=g)\n",
        "W2 = torch.randn((100, 27), generator=g)\n",
        "b2 = torch.randn(27, generator=g)\n",
        "parameters = [C, W1, b1, W2, b2]"
      ],
      "metadata": {
        "id": "g5Hbw8_jVA9o"
      },
      "execution_count": 58,
      "outputs": []
    },
    {
      "cell_type": "code",
      "source": [
        "for p in parameters :\n",
        "  p.requires_grad = True"
      ],
      "metadata": {
        "id": "tIjDHguEVmZt"
      },
      "execution_count": 59,
      "outputs": []
    },
    {
      "cell_type": "code",
      "source": [
        "lre = torch.linspace(-3, 0, 1000)\n",
        "lrs = 10**lre"
      ],
      "metadata": {
        "id": "yZKbk_zwtI_o"
      },
      "execution_count": 60,
      "outputs": []
    },
    {
      "cell_type": "code",
      "source": [
        "lri, lossi = [], []\n",
        "for i in range(10000) :\n",
        "  # minibatch construct\n",
        "  ix = torch.randint(0, X.shape[0], (32,))\n",
        "\n",
        "  # Forward pass\n",
        "  emb = C[X[ix]]\n",
        "  h = torch.tanh(emb.view(-1, 6) @ W1 + b1)\n",
        "  logits = h @ W2 + b2\n",
        "  loss = F.cross_entropy(logits, y[ix])\n",
        "  # print(loss.item())\n",
        "\n",
        "  # backward pass\n",
        "  for p in parameters :\n",
        "    p.grad = None\n",
        "  loss.backward()\n",
        "\n",
        "  # lr = lrs[i]\n",
        "  lr = 10**-1\n",
        "  # Update parameters\n",
        "  for p in parameters :\n",
        "    p.data += -lr * p.grad\n",
        "\n",
        "  # # trck stats\n",
        "  # lri.append(lre[i])\n",
        "  # lossi.append(loss.item())\n",
        "print(f\"Final loss: {loss.item()}\")"
      ],
      "metadata": {
        "colab": {
          "base_uri": "https://localhost:8080/"
        },
        "id": "k9WMK_KgVzSW",
        "outputId": "d3d18b22-4b26-45eb-e3a3-3d5c691b19b8"
      },
      "execution_count": 63,
      "outputs": [
        {
          "output_type": "stream",
          "name": "stdout",
          "text": [
            "Final loss: 2.068589448928833\n"
          ]
        }
      ]
    },
    {
      "cell_type": "code",
      "source": [
        "plt.plot(lri, lossi)"
      ],
      "metadata": {
        "colab": {
          "base_uri": "https://localhost:8080/",
          "height": 448
        },
        "id": "oPPYDv98ZPzg",
        "outputId": "abaa299b-eb15-419a-d667-b219486b4831"
      },
      "execution_count": 56,
      "outputs": [
        {
          "output_type": "execute_result",
          "data": {
            "text/plain": [
              "[<matplotlib.lines.Line2D at 0x7a164d639660>]"
            ]
          },
          "metadata": {},
          "execution_count": 56
        },
        {
          "output_type": "display_data",
          "data": {
            "text/plain": [
              "<Figure size 640x480 with 1 Axes>"
            ],
            "image/png": "[encoded data removed]"
          },
          "metadata": {}
        }
      ]
    },
    {
      "cell_type": "code",
      "source": [
        "\"\"\"Now Repeating the same process above but with training, testing and validation sets\"\"\""
      ],
      "metadata": {
        "colab": {
          "base_uri": "https://localhost:8080/",
          "height": 36
        },
        "id": "egMPcmt5IoKW",
        "outputId": "6dad4e71-279a-4b97-b733-59a45c495504"
      },
      "execution_count": 5,
      "outputs": [
        {
          "output_type": "execute_result",
          "data": {
            "text/plain": [
              "'Now Repeating the same process above but with training, testing and validation sets'"
            ],
            "application/vnd.google.colaboratory.intrinsic+json": {
              "type": "string"
            }
          },
          "metadata": {},
          "execution_count": 5
        }
      ]
    },
    {
      "cell_type": "code",
      "source": [
        "# Building the trainig, validation and testing sets\n",
        "def build_dataset(words) :\n",
        "  block_size = 3\n",
        "  X, Y = [], []\n",
        "  for w in words :\n",
        "    context = [0] * block_size\n",
        "    for ch in w + \".\" :\n",
        "      ix = stoi[ch]\n",
        "      X.append(context)\n",
        "      Y.append(ix)\n",
        "      context = context[1:] + [ix]\n",
        "  X = torch.tensor(X)\n",
        "  Y = torch.tensor(Y)\n",
        "  return X, Y\n",
        "random.seed(42)\n",
        "random.shuffle(names)\n",
        "n1 = int(0.8 * len(names))\n",
        "n2 = int(0.9 * len(names))\n",
        "\n",
        "Xfull, Yfull = build_dataset(names)\n",
        "Xtr, Ytr = build_dataset(names[:n1])\n",
        "Xdev, Ydev = build_dataset(names[n1:n2])\n",
        "Xte, Yte = build_dataset(names[n2:])\n",
        "print(len(Xtr), len(Xdev), len(Xte))\n",
        "print(len(Xfull))"
      ],
      "metadata": {
        "colab": {
          "base_uri": "https://localhost:8080/"
        },
        "id": "ECFvWi4GEep8",
        "outputId": "7a045dc5-1c85-4cf7-a3c4-cf0bcb613b51"
      },
      "execution_count": 134,
      "outputs": [
        {
          "output_type": "stream",
          "name": "stdout",
          "text": [
            "182457 22834 22855\n",
            "228146\n"
          ]
        }
      ]
    },
    {
      "cell_type": "code",
      "source": [
        "print(f\"Tringin shape: {Xtr.shape, Ytr.shape}\")\n",
        "print(f\"Validation shape: {Xdev.shape, Ydev.shape}\")\n",
        "print(f\"Testing shape: {Xte.shape, Yte.shape}\")"
      ],
      "metadata": {
        "colab": {
          "base_uri": "https://localhost:8080/"
        },
        "id": "y-6m0ESzHiiL",
        "outputId": "4bfc85dc-d637-4728-ff9f-905256feb126"
      },
      "execution_count": 135,
      "outputs": [
        {
          "output_type": "stream",
          "name": "stdout",
          "text": [
            "Tringin shape: (torch.Size([182457, 3]), torch.Size([182457]))\n",
            "Validation shape: (torch.Size([22834, 3]), torch.Size([22834]))\n",
            "Testing shape: (torch.Size([22855, 3]), torch.Size([22855]))\n"
          ]
        }
      ]
    },
    {
      "cell_type": "code",
      "source": [
        "g = torch.Generator().manual_seed(2147483647)\n",
        "C = torch.randn((27, 2), generator=g)\n",
        "W1 = torch.randn((6, 300), generator=g)\n",
        "b1 = torch.randn(300, generator=g)\n",
        "W2 = torch.randn((300, 27), generator=g)\n",
        "b2 = torch.randn(27, generator=g)\n",
        "parameters = [C, W1, b1, W2, b2]"
      ],
      "metadata": {
        "id": "V_5NL_C5Hw2W"
      },
      "execution_count": 178,
      "outputs": []
    },
    {
      "cell_type": "code",
      "source": [
        "sum(p.nelement() for p in parameters)"
      ],
      "metadata": {
        "colab": {
          "base_uri": "https://localhost:8080/"
        },
        "id": "J4leTeu9YvRv",
        "outputId": "7cf41f7e-be8e-4bd7-80b5-c9cb43b5d519"
      },
      "execution_count": 179,
      "outputs": [
        {
          "output_type": "execute_result",
          "data": {
            "text/plain": [
              "10281"
            ]
          },
          "metadata": {},
          "execution_count": 179
        }
      ]
    },
    {
      "cell_type": "code",
      "source": [
        "for p in parameters :\n",
        "  p.requires_grad = True"
      ],
      "metadata": {
        "id": "3HaUIVqRHzRT"
      },
      "execution_count": 180,
      "outputs": []
    },
    {
      "cell_type": "code",
      "source": [
        "lri = []\n",
        "lossi = []\n",
        "steps = []\n",
        "for i in range(30000) :\n",
        "  # minibatch construct\n",
        "  ix = torch.randint(0, Xtr.shape[0], (200,))\n",
        "\n",
        "  # Forward pass\n",
        "  emb = C[Xtr[ix]]\n",
        "  h = torch.tanh(emb.view(-1, 6) @ W1 + b1)\n",
        "  logits = h @ W2 + b2\n",
        "  loss = F.cross_entropy(logits, Ytr[ix])\n",
        "  # print(loss.item())\n",
        "\n",
        "  # backward pass\n",
        "  for p in parameters :\n",
        "    p.grad = None\n",
        "  loss.backward()\n",
        "\n",
        "  # Update parameters\n",
        "  lr = 0.01\n",
        "  for p in parameters :\n",
        "    p.data += -lr * p.grad\n",
        "\n",
        "  # Track stats\n",
        "  lri.append(lr)\n",
        "  steps.append(i)\n",
        "  lossi.append(loss.item())\n",
        "\n",
        "\n",
        "print(f\"Final loss: {loss.item()}\")"
      ],
      "metadata": {
        "colab": {
          "base_uri": "https://localhost:8080/"
        },
        "id": "OcxBnSvrH1eV",
        "outputId": "5fb696d4-dc3b-4e32-abc3-2a35f4742593"
      },
      "execution_count": 190,
      "outputs": [
        {
          "output_type": "stream",
          "name": "stdout",
          "text": [
            "Final loss: 2.312732219696045\n"
          ]
        }
      ]
    },
    {
      "cell_type": "code",
      "source": [
        "plt.plot(steps, lossi)"
      ],
      "metadata": {
        "colab": {
          "base_uri": "https://localhost:8080/",
          "height": 448
        },
        "id": "XDCe1dBwaIF3",
        "outputId": "c04064fb-86d4-48fb-c059-8322e8cb0c8b"
      },
      "execution_count": 159,
      "outputs": [
        {
          "output_type": "execute_result",
          "data": {
            "text/plain": [
              "[<matplotlib.lines.Line2D at 0x7bd97ce1e6b0>]"
            ]
          },
          "metadata": {},
          "execution_count": 159
        },
        {
          "output_type": "display_data",
          "data": {
            "text/plain": [
              "<Figure size 640x480 with 1 Axes>"
            ],
            "image/png": "[encoded data removed]"
          },
          "metadata": {}
        }
      ]
    },
    {
      "cell_type": "code",
      "source": [
        "# Evaluating loss on validation set\n",
        "embed = C[Xdev]\n",
        "h = torch.tanh(embed.view(-1, 6) @ W1 + b1)\n",
        "logits = h @ W2 + b2\n",
        "loss = F.cross_entropy(logits, Ydev)\n",
        "loss"
      ],
      "metadata": {
        "colab": {
          "base_uri": "https://localhost:8080/"
        },
        "id": "9suk3K4CIMbN",
        "outputId": "508cf949-1674-4f09-bd45-f18efefbff70"
      },
      "execution_count": 189,
      "outputs": [
        {
          "output_type": "execute_result",
          "data": {
            "text/plain": [
              "tensor(2.2901, grad_fn=<NllLossBackward0>)"
            ]
          },
          "metadata": {},
          "execution_count": 189
        }
      ]
    },
    {
      "cell_type": "code",
      "source": [
        "# Evaluating loss on training set\n",
        "embed = C[Xtr]\n",
        "h = torch.tanh(embed.view(-1, 6) @ W1 + b1)\n",
        "logits = h @ W2 + b2\n",
        "loss = F.cross_entropy(logits, Ytr)\n",
        "loss"
      ],
      "metadata": {
        "colab": {
          "base_uri": "https://localhost:8080/"
        },
        "id": "8Uvz7MGaJ-n-",
        "outputId": "ab5dc206-9b74-4a64-bc0e-a2876398b0ae"
      },
      "execution_count": 188,
      "outputs": [
        {
          "output_type": "execute_result",
          "data": {
            "text/plain": [
              "tensor(2.2931, grad_fn=<NllLossBackward0>)"
            ]
          },
          "metadata": {},
          "execution_count": 188
        }
      ]
    },
    {
      "cell_type": "code",
      "source": [
        "# Visualizing the 2 dimensional space created for our model\n",
        "plt.figure(figsize=(8, 8))\n",
        "plt.scatter(C[:,0].data, C[:, 1].data, s=200)\n",
        "for i in range(C.shape[0]) :\n",
        "  plt.text(C[i,0].item(), C[i, 1].item(), itos[i], ha=\"center\", va=\"center\", color=\"white\")\n",
        "plt.grid(\"minor\")"
      ],
      "metadata": {
        "colab": {
          "base_uri": "https://localhost:8080/",
          "height": 676
        },
        "id": "PD8XDa8FVA-0",
        "outputId": "4f806cf8-1366-4e1f-8c61-468aa541ee07"
      },
      "execution_count": 187,
      "outputs": [
        {
          "output_type": "display_data",
          "data": {
            "text/plain": [
              "<Figure size 800x800 with 1 Axes>"
            ],
            "image/png": "[encoded data removed]"
          },
          "metadata": {}
        }
      ]
    },
    {
      "cell_type": "code",
      "source": [
        "\"\"\"Now we reduce the dimension size (could have just changed the variables\n",
        "  above but wanted to keep the results)\"\"\""
      ],
      "metadata": {
        "colab": {
          "base_uri": "https://localhost:8080/",
          "height": 36
        },
        "id": "ya6jUBXjVYV_",
        "outputId": "d3d05022-4128-47ab-99dd-e3177e0cf998"
      },
      "execution_count": 191,
      "outputs": [
        {
          "output_type": "execute_result",
          "data": {
            "text/plain": [
              "'Now we reduce the dimension size (could have just changed the variables\\n  above but wanted to keep the results)'"
            ],
            "application/vnd.google.colaboratory.intrinsic+json": {
              "type": "string"
            }
          },
          "metadata": {},
          "execution_count": 191
        }
      ]
    },
    {
      "cell_type": "code",
      "source": [
        "g = torch.Generator().manual_seed(2147483647)\n",
        "C = torch.randn((27, 10), generator=g) # Increased to 10 dimensions\n",
        "W1 = torch.randn((30, 200), generator=g) # block_size * no_dimensions = 3 * 10\n",
        "b1 = torch.randn(200, generator=g)\n",
        "W2 = torch.randn((200, 27), generator=g)\n",
        "b2 = torch.randn(27, generator=g)\n",
        "parameters = [C, W1, b1, W2, b2]"
      ],
      "metadata": {
        "id": "IEjZTPplnNi4"
      },
      "execution_count": 230,
      "outputs": []
    },
    {
      "cell_type": "code",
      "source": [
        "sum(p.nelement() for p in parameters)"
      ],
      "metadata": {
        "colab": {
          "base_uri": "https://localhost:8080/"
        },
        "id": "vJDT97z6ndhX",
        "outputId": "5561424c-f645-46b7-b25f-9fe41c466106"
      },
      "execution_count": 231,
      "outputs": [
        {
          "output_type": "execute_result",
          "data": {
            "text/plain": [
              "11897"
            ]
          },
          "metadata": {},
          "execution_count": 231
        }
      ]
    },
    {
      "cell_type": "code",
      "source": [
        "for p in parameters :\n",
        "  p.requires_grad = True"
      ],
      "metadata": {
        "id": "utRWX_5lnhLp"
      },
      "execution_count": 232,
      "outputs": []
    },
    {
      "cell_type": "code",
      "source": [
        "lri = []\n",
        "lossi = []\n",
        "steps = []"
      ],
      "metadata": {
        "id": "G0iXqC_anjJ6"
      },
      "execution_count": 233,
      "outputs": []
    },
    {
      "cell_type": "code",
      "source": [
        "for i in range(30000) :\n",
        "  # minibatch construct\n",
        "  ix = torch.randint(0, Xtr.shape[0], (200,))\n",
        "\n",
        "  # Forward pass\n",
        "  emb = C[Xtr[ix]]\n",
        "  h = torch.tanh(emb.view(-1, 30) @ W1 + b1)\n",
        "  logits = h @ W2 + b2\n",
        "  loss = F.cross_entropy(logits, Ytr[ix])\n",
        "  # print(loss.item())\n",
        "\n",
        "  # backward pass\n",
        "  for p in parameters :\n",
        "    p.grad = None\n",
        "  loss.backward()\n",
        "\n",
        "  # Update parameters\n",
        "  lr = 0.1\n",
        "  for p in parameters :\n",
        "    p.data += -lr * p.grad\n",
        "\n",
        "  # Track stats\n",
        "  lri.append(lr)\n",
        "  steps.append(i)\n",
        "  lossi.append(loss.item())\n",
        "\n",
        "\n",
        "print(f\"Final loss: {loss.item()}\")"
      ],
      "metadata": {
        "colab": {
          "base_uri": "https://localhost:8080/"
        },
        "id": "Z0JRcz-GnmhV",
        "outputId": "4dff3f2a-8205-47f3-ae6d-345162b9e3ee"
      },
      "execution_count": 235,
      "outputs": [
        {
          "output_type": "stream",
          "name": "stdout",
          "text": [
            "Final loss: 2.230468511581421\n"
          ]
        }
      ]
    },
    {
      "cell_type": "code",
      "source": [
        "plt.plot(steps, lossi)"
      ],
      "metadata": {
        "colab": {
          "base_uri": "https://localhost:8080/",
          "height": 448
        },
        "id": "qPaOf6QMnxMT",
        "outputId": "05a8d2ba-c529-43b9-ba3e-c88b4cad5593"
      },
      "execution_count": 227,
      "outputs": [
        {
          "output_type": "execute_result",
          "data": {
            "text/plain": [
              "[<matplotlib.lines.Line2D at 0x7bd97cc5c340>]"
            ]
          },
          "metadata": {},
          "execution_count": 227
        },
        {
          "output_type": "display_data",
          "data": {
            "text/plain": [
              "<Figure size 640x480 with 1 Axes>"
            ],
            "image/png": "[encoded data removed]"
          },
          "metadata": {}
        }
      ]
    },
    {
      "cell_type": "code",
      "source": [
        "# Evaluating loss on training set\n",
        "embed = C[Xtr]\n",
        "h = torch.tanh(embed.view(-1, 30) @ W1 + b1)\n",
        "logits = h @ W2 + b2\n",
        "loss = F.cross_entropy(logits, Ytr)\n",
        "loss"
      ],
      "metadata": {
        "colab": {
          "base_uri": "https://localhost:8080/"
        },
        "id": "ZD5e9zhmn26D",
        "outputId": "5c2e0450-5074-45dc-e291-3e3497632ba9"
      },
      "execution_count": 228,
      "outputs": [
        {
          "output_type": "execute_result",
          "data": {
            "text/plain": [
              "tensor(2.1329, grad_fn=<NllLossBackward0>)"
            ]
          },
          "metadata": {},
          "execution_count": 228
        }
      ]
    },
    {
      "cell_type": "code",
      "source": [
        "# Evaluating loss on validation set\n",
        "embed = C[Xdev]\n",
        "h = torch.tanh(embed.view(-1, 30) @ W1 + b1)\n",
        "logits = h @ W2 + b2\n",
        "loss = F.cross_entropy(logits, Ydev)\n",
        "loss"
      ],
      "metadata": {
        "colab": {
          "base_uri": "https://localhost:8080/"
        },
        "id": "oqWIlVmIn2iy",
        "outputId": "9934966d-60d6-4c3a-d293-32c1d1d03a04"
      },
      "execution_count": 229,
      "outputs": [
        {
          "output_type": "execute_result",
          "data": {
            "text/plain": [
              "tensor(2.1547, grad_fn=<NllLossBackward0>)"
            ]
          },
          "metadata": {},
          "execution_count": 229
        }
      ]
    },
    {
      "cell_type": "code",
      "source": [
        "\"\"\"Samplng from model\"\"\""
      ],
      "metadata": {
        "colab": {
          "base_uri": "https://localhost:8080/",
          "height": 36
        },
        "id": "RJ1LSjfPn7Ws",
        "outputId": "6f669a22-ef24-4a29-e543-2566ae31b942"
      },
      "execution_count": 236,
      "outputs": [
        {
          "output_type": "execute_result",
          "data": {
            "text/plain": [
              "'Samplng from model'"
            ],
            "application/vnd.google.colaboratory.intrinsic+json": {
              "type": "string"
            }
          },
          "metadata": {},
          "execution_count": 236
        }
      ]
    },
    {
      "cell_type": "code",
      "source": [
        "g = torch.Generator().manual_seed(2147483647 + 10)\n",
        "block_size = 3\n",
        "for _ in range(20) :\n",
        "  out = []\n",
        "  context = [0] * block_size\n",
        "  while True :\n",
        "    emb = C[torch.tensor([context])]\n",
        "    h = torch.tanh(emb.view(1, -1) @ W1 + b1)\n",
        "    logits = h @ W2 + b2\n",
        "    probs = F.softmax(logits, dim=1)\n",
        "    ix = torch.multinomial(probs, num_samples=1, generator=g).item()\n",
        "    context = context[1:] + [ix]\n",
        "    out.append(ix)\n",
        "    if ix == 0 :\n",
        "      break\n",
        "  print(\"\".join([itos[i] for i in out]))"
      ],
      "metadata": {
        "colab": {
          "base_uri": "https://localhost:8080/"
        },
        "id": "bhuhD1M8tt2k",
        "outputId": "8dbd1a34-e968-4e81-f8f0-70e28c18b787"
      },
      "execution_count": 238,
      "outputs": [
        {
          "output_type": "stream",
          "name": "stdout",
          "text": [
            "mora.\n",
            "mayanniellend.\n",
            "ryah.\n",
            "rethan.\n",
            "brerlee.\n",
            "adelyn.\n",
            "elin.\n",
            "shi.\n",
            "jenleigh.\n",
            "san.\n",
            "narleitziviona.\n",
            "cayshadergahiriel.\n",
            "kinton.\n",
            "korix.\n",
            "teron.\n",
            "ubreyden.\n",
            "jamyleyel.\n",
            "yova.\n",
            "mastlyen.\n",
            "hal.\n"
          ]
        }
      ]
    },
    {
      "cell_type": "code",
      "source": [
        "# Looks good"
      ],
      "metadata": {
        "id": "yZwQVe8qvEe-"
      },
      "execution_count": 239,
      "outputs": []
    },
    {
      "cell_type": "code",
      "source": [],
      "metadata": {
        "id": "LWQA1bptvOnY"
      },
      "execution_count": null,
      "outputs": []
    }
  ]
}